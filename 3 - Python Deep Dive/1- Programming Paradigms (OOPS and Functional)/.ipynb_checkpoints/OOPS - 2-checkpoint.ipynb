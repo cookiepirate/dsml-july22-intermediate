{
 "cells": [
  {
   "cell_type": "code",
   "execution_count": 1,
   "id": "39d89eb3",
   "metadata": {},
   "outputs": [],
   "source": [
    "class A:\n",
    "    def __init__(self, a, b):\n",
    "        self.a = a\n",
    "        self.b = b"
   ]
  },
  {
   "cell_type": "code",
   "execution_count": 3,
   "id": "1e331060",
   "metadata": {},
   "outputs": [],
   "source": [
    "# Dunders - Magic Methods"
   ]
  },
  {
   "cell_type": "code",
   "execution_count": 9,
   "id": "ce408a79",
   "metadata": {},
   "outputs": [],
   "source": [
    "class Car:\n",
    "    def __init__(self, name, milaege):\n",
    "        self.name = name\n",
    "        self.milaege = milaege"
   ]
  },
  {
   "cell_type": "code",
   "execution_count": 10,
   "id": "7bd96ab9",
   "metadata": {},
   "outputs": [],
   "source": [
    "c1 = Car(\"Nexon\", 12)\n",
    "c2 = Car(\"Altroz\", 15)"
   ]
  },
  {
   "cell_type": "code",
   "execution_count": 11,
   "id": "71e2e6f6",
   "metadata": {},
   "outputs": [
    {
     "name": "stdout",
     "output_type": "stream",
     "text": [
      "<__main__.Car object at 0x7fc3108d5610>\n"
     ]
    }
   ],
   "source": [
    "print(c1)\n",
    "# Name -> Milaege"
   ]
  },
  {
   "cell_type": "code",
   "execution_count": 12,
   "id": "d3d83934",
   "metadata": {},
   "outputs": [
    {
     "name": "stdout",
     "output_type": "stream",
     "text": [
      "<function random at 0x7fc31045b5e0>\n"
     ]
    }
   ],
   "source": [
    "def random():\n",
    "    return \"random\"\n",
    "\n",
    "print(random)"
   ]
  },
  {
   "cell_type": "code",
   "execution_count": 13,
   "id": "4cfa64e3",
   "metadata": {},
   "outputs": [],
   "source": [
    "# Printing is a behaviour in python\n",
    "# We are going to tweak that behaviour (customize) for objects of our custom class"
   ]
  },
  {
   "cell_type": "code",
   "execution_count": 47,
   "id": "aff7cf1f",
   "metadata": {},
   "outputs": [],
   "source": [
    "class Car:\n",
    "    def __init__(self, name, milaege):\n",
    "        self.name = name\n",
    "        self.milaege = milaege\n",
    "    \n",
    "    # whenever an object is printed\n",
    "    def __str__(self):\n",
    "        return f\"{self.name} -> {self.milaege}\"\n",
    "    \n",
    "    def __add__(self, other):\n",
    "        return self.milaege + other.milaege\n",
    "    \n",
    "    def __lt__(self, other):\n",
    "        return self.milaege < other.milaege\n",
    "    \n",
    "    def __call__(self):\n",
    "        print(\"I WAS CALLED\")"
   ]
  },
  {
   "cell_type": "code",
   "execution_count": 48,
   "id": "f36ade71",
   "metadata": {},
   "outputs": [],
   "source": [
    "c1 = Car(\"Nexon\", 12)\n",
    "c2 = Car(\"Altroz\", 15)"
   ]
  },
  {
   "cell_type": "code",
   "execution_count": 49,
   "id": "413164b7",
   "metadata": {},
   "outputs": [
    {
     "name": "stdout",
     "output_type": "stream",
     "text": [
      "Nexon -> 12\n"
     ]
    }
   ],
   "source": [
    "print(c1)"
   ]
  },
  {
   "cell_type": "code",
   "execution_count": 50,
   "id": "6c1759ee",
   "metadata": {},
   "outputs": [
    {
     "data": {
      "text/plain": [
       "27"
      ]
     },
     "execution_count": 50,
     "metadata": {},
     "output_type": "execute_result"
    }
   ],
   "source": [
    "c1 + c2\n",
    "# Car.__add__(c1, c2)"
   ]
  },
  {
   "cell_type": "code",
   "execution_count": 51,
   "id": "6b59f455",
   "metadata": {},
   "outputs": [],
   "source": [
    "# HOMEWORK - \n",
    "# Use this add method to add 3 cars"
   ]
  },
  {
   "cell_type": "code",
   "execution_count": 52,
   "id": "bebe87ae",
   "metadata": {},
   "outputs": [],
   "source": [
    "# c1 + c2 + Car(\"BMW\", 10)"
   ]
  },
  {
   "cell_type": "code",
   "execution_count": 53,
   "id": "59d8c928",
   "metadata": {},
   "outputs": [
    {
     "data": {
      "text/plain": [
       "True"
      ]
     },
     "execution_count": 53,
     "metadata": {},
     "output_type": "execute_result"
    }
   ],
   "source": [
    "c1 < c2"
   ]
  },
  {
   "cell_type": "code",
   "execution_count": 54,
   "id": "e970abef",
   "metadata": {},
   "outputs": [
    {
     "name": "stdout",
     "output_type": "stream",
     "text": [
      "I WAS CALLED\n"
     ]
    }
   ],
   "source": [
    "c1()"
   ]
  },
  {
   "cell_type": "code",
   "execution_count": 55,
   "id": "1ae5bda7",
   "metadata": {},
   "outputs": [
    {
     "name": "stdout",
     "output_type": "stream",
     "text": [
      "I WAS CALLED\n"
     ]
    }
   ],
   "source": [
    "c2()"
   ]
  },
  {
   "cell_type": "code",
   "execution_count": 56,
   "id": "850c086a",
   "metadata": {},
   "outputs": [],
   "source": [
    "# Start class names with capital lettes or we use camel case\n",
    "class SchoolMember:\n",
    "    def __init__(self, name):\n",
    "        self.name = name\n",
    "        \n",
    "class Student(SchoolMember):\n",
    "    def __init__(self, name, grade):\n",
    "        self.grade = grade\n",
    "        \n",
    "class Staff(SchoolMember):\n",
    "    def __init__(self, name, salary):\n",
    "        self.salary = salary\n",
    "        \n",
    "class Teacher(Staff):\n",
    "    def __init__(self, name, salary, subject):\n",
    "        self.subject = subject"
   ]
  },
  {
   "cell_type": "code",
   "execution_count": 57,
   "id": "7398313a",
   "metadata": {},
   "outputs": [],
   "source": [
    "s1 = Student(\"Krishna\", \"A\")"
   ]
  },
  {
   "cell_type": "code",
   "execution_count": 58,
   "id": "1890f78a",
   "metadata": {},
   "outputs": [
    {
     "data": {
      "text/plain": [
       "__main__.Student"
      ]
     },
     "execution_count": 58,
     "metadata": {},
     "output_type": "execute_result"
    }
   ],
   "source": [
    "type(s1)"
   ]
  },
  {
   "cell_type": "code",
   "execution_count": 59,
   "id": "679d734d",
   "metadata": {},
   "outputs": [
    {
     "data": {
      "text/plain": [
       "'A'"
      ]
     },
     "execution_count": 59,
     "metadata": {},
     "output_type": "execute_result"
    }
   ],
   "source": [
    "s1.grade"
   ]
  },
  {
   "cell_type": "code",
   "execution_count": 60,
   "id": "25e3d056",
   "metadata": {},
   "outputs": [
    {
     "ename": "AttributeError",
     "evalue": "'Student' object has no attribute 'name'",
     "output_type": "error",
     "traceback": [
      "\u001b[0;31m---------------------------------------------------------------------------\u001b[0m",
      "\u001b[0;31mAttributeError\u001b[0m                            Traceback (most recent call last)",
      "\u001b[0;32m/var/folders/nn/c52y0d3j0gq59dpsswchkt2r0000gn/T/ipykernel_16651/2835019485.py\u001b[0m in \u001b[0;36m<module>\u001b[0;34m\u001b[0m\n\u001b[0;32m----> 1\u001b[0;31m \u001b[0ms1\u001b[0m\u001b[0;34m.\u001b[0m\u001b[0mname\u001b[0m\u001b[0;34m\u001b[0m\u001b[0;34m\u001b[0m\u001b[0m\n\u001b[0m",
      "\u001b[0;31mAttributeError\u001b[0m: 'Student' object has no attribute 'name'"
     ]
    }
   ],
   "source": [
    "s1.name"
   ]
  },
  {
   "cell_type": "code",
   "execution_count": 61,
   "id": "94eede52",
   "metadata": {},
   "outputs": [],
   "source": [
    "class A:\n",
    "    def __init__(self, a, b):\n",
    "        self.a = a\n",
    "        self.b = b"
   ]
  },
  {
   "cell_type": "code",
   "execution_count": 62,
   "id": "2f378918",
   "metadata": {},
   "outputs": [
    {
     "ename": "TypeError",
     "evalue": "__init__() missing 2 required positional arguments: 'a' and 'b'",
     "output_type": "error",
     "traceback": [
      "\u001b[0;31m---------------------------------------------------------------------------\u001b[0m",
      "\u001b[0;31mTypeError\u001b[0m                                 Traceback (most recent call last)",
      "\u001b[0;32m/var/folders/nn/c52y0d3j0gq59dpsswchkt2r0000gn/T/ipykernel_16651/1934065993.py\u001b[0m in \u001b[0;36m<module>\u001b[0;34m\u001b[0m\n\u001b[0;32m----> 1\u001b[0;31m \u001b[0ma\u001b[0m \u001b[0;34m=\u001b[0m \u001b[0mA\u001b[0m\u001b[0;34m(\u001b[0m\u001b[0;34m)\u001b[0m\u001b[0;34m\u001b[0m\u001b[0;34m\u001b[0m\u001b[0m\n\u001b[0m",
      "\u001b[0;31mTypeError\u001b[0m: __init__() missing 2 required positional arguments: 'a' and 'b'"
     ]
    }
   ],
   "source": [
    "a = A()"
   ]
  },
  {
   "cell_type": "code",
   "execution_count": 71,
   "id": "0f46056c",
   "metadata": {},
   "outputs": [],
   "source": [
    "# Start class names with capital lettes or we use camel case\n",
    "class SchoolMember:\n",
    "    def __init__(self, name):\n",
    "        self.name = name\n",
    "        \n",
    "class Student(SchoolMember):\n",
    "    def __init__(self, name, grade):\n",
    "        # SchoolMember.__init__(self, name)\n",
    "        super().__init__(name)\n",
    "        # super automatically corresponds to the direct parent class\n",
    "        self.grade = grade\n",
    "        \n",
    "class Staff(SchoolMember):\n",
    "    def __init__(self, name, salary):\n",
    "        super().__init__(name)\n",
    "        self.salary = salary\n",
    "        \n",
    "class Teacher(Staff):\n",
    "    def __init__(self, name, salary, subject):\n",
    "        super().__init__(name, salary)\n",
    "        self.subject = subject"
   ]
  },
  {
   "cell_type": "code",
   "execution_count": 72,
   "id": "e7a36425",
   "metadata": {},
   "outputs": [],
   "source": [
    "s1 = Student(\"Sharath\", \"A\")"
   ]
  },
  {
   "cell_type": "code",
   "execution_count": 73,
   "id": "7e3bc575",
   "metadata": {},
   "outputs": [
    {
     "data": {
      "text/plain": [
       "'A'"
      ]
     },
     "execution_count": 73,
     "metadata": {},
     "output_type": "execute_result"
    }
   ],
   "source": [
    "s1.grade"
   ]
  },
  {
   "cell_type": "code",
   "execution_count": 74,
   "id": "54c79e45",
   "metadata": {},
   "outputs": [],
   "source": [
    "s1.name = \"Random\""
   ]
  },
  {
   "cell_type": "code",
   "execution_count": 70,
   "id": "34f4fcf6",
   "metadata": {},
   "outputs": [
    {
     "data": {
      "text/plain": [
       "'Random'"
      ]
     },
     "execution_count": 70,
     "metadata": {},
     "output_type": "execute_result"
    }
   ],
   "source": [
    "s1.name"
   ]
  },
  {
   "cell_type": "code",
   "execution_count": 75,
   "id": "0de1366c",
   "metadata": {},
   "outputs": [],
   "source": [
    "t1 = Teacher(\"Bipin\", 10, \"Python\")"
   ]
  },
  {
   "cell_type": "code",
   "execution_count": 76,
   "id": "a4183f4e",
   "metadata": {},
   "outputs": [
    {
     "data": {
      "text/plain": [
       "'Bipin'"
      ]
     },
     "execution_count": 76,
     "metadata": {},
     "output_type": "execute_result"
    }
   ],
   "source": [
    "t1.name"
   ]
  },
  {
   "cell_type": "code",
   "execution_count": 77,
   "id": "0584466d",
   "metadata": {},
   "outputs": [
    {
     "data": {
      "text/plain": [
       "10"
      ]
     },
     "execution_count": 77,
     "metadata": {},
     "output_type": "execute_result"
    }
   ],
   "source": [
    "t1.salary"
   ]
  },
  {
   "cell_type": "code",
   "execution_count": 78,
   "id": "c5ad30ff",
   "metadata": {},
   "outputs": [
    {
     "data": {
      "text/plain": [
       "'Python'"
      ]
     },
     "execution_count": 78,
     "metadata": {},
     "output_type": "execute_result"
    }
   ],
   "source": [
    "t1.subject"
   ]
  },
  {
   "cell_type": "code",
   "execution_count": 7,
   "id": "a9117053",
   "metadata": {},
   "outputs": [],
   "source": [
    "class BankAccount:\n",
    "    def __init__(self, balance):\n",
    "        self.balance = balance\n",
    "        \n",
    "    def withdrawl(self, amount):\n",
    "        self.balance -= amount\n",
    "        \n",
    "    def deposit(self, amount):\n",
    "        self.balance += amount"
   ]
  },
  {
   "cell_type": "code",
   "execution_count": 8,
   "id": "8445bccc",
   "metadata": {},
   "outputs": [],
   "source": [
    "b1 = BankAccount(10000)"
   ]
  },
  {
   "cell_type": "code",
   "execution_count": 9,
   "id": "1ba84e7a",
   "metadata": {},
   "outputs": [],
   "source": [
    "b1.deposit(5000)"
   ]
  },
  {
   "cell_type": "code",
   "execution_count": 10,
   "id": "1f3ed2d5",
   "metadata": {},
   "outputs": [
    {
     "data": {
      "text/plain": [
       "15000"
      ]
     },
     "execution_count": 10,
     "metadata": {},
     "output_type": "execute_result"
    }
   ],
   "source": [
    "b1.balance"
   ]
  },
  {
   "cell_type": "code",
   "execution_count": 11,
   "id": "e6e7109c",
   "metadata": {},
   "outputs": [],
   "source": [
    "b1.withdrawl(15000)"
   ]
  },
  {
   "cell_type": "code",
   "execution_count": 12,
   "id": "ee9efdcb",
   "metadata": {},
   "outputs": [
    {
     "data": {
      "text/plain": [
       "0"
      ]
     },
     "execution_count": 12,
     "metadata": {},
     "output_type": "execute_result"
    }
   ],
   "source": [
    "b1.balance"
   ]
  },
  {
   "cell_type": "code",
   "execution_count": 13,
   "id": "47ae5723",
   "metadata": {},
   "outputs": [],
   "source": [
    "b1.balance = 23456789854323456789987654345678909876543"
   ]
  },
  {
   "cell_type": "code",
   "execution_count": 14,
   "id": "3e0fc6a3",
   "metadata": {},
   "outputs": [
    {
     "data": {
      "text/plain": [
       "23456789854323456789987654345678909876543"
      ]
     },
     "execution_count": 14,
     "metadata": {},
     "output_type": "execute_result"
    }
   ],
   "source": [
    "b1.balance"
   ]
  },
  {
   "cell_type": "code",
   "execution_count": 15,
   "id": "fabd1270",
   "metadata": {},
   "outputs": [],
   "source": [
    "# Private Properties\n",
    "# - will be accessible within the class\n",
    "# - will not be accessible outside the class definition\n"
   ]
  },
  {
   "cell_type": "code",
   "execution_count": 25,
   "id": "c2263bcc",
   "metadata": {},
   "outputs": [],
   "source": [
    "class BankAccount:\n",
    "    def __init__(self, balance):\n",
    "        self.__balance = balance\n",
    "        \n",
    "    # Setter\n",
    "    def withdraw(self, amount):\n",
    "        self.__balance -= amount\n",
    "        \n",
    "    def deposit(self, amount):\n",
    "        self.__balance += amount\n",
    "        \n",
    "    # Getter\n",
    "    def check_balance(self):\n",
    "        return self.__balance"
   ]
  },
  {
   "cell_type": "code",
   "execution_count": 26,
   "id": "888ae743",
   "metadata": {},
   "outputs": [],
   "source": [
    "b1 = BankAccount(10000)"
   ]
  },
  {
   "cell_type": "code",
   "execution_count": 27,
   "id": "903fc8c9",
   "metadata": {},
   "outputs": [
    {
     "ename": "AttributeError",
     "evalue": "'BankAccount' object has no attribute '__balance'",
     "output_type": "error",
     "traceback": [
      "\u001b[0;31m---------------------------------------------------------------------------\u001b[0m",
      "\u001b[0;31mAttributeError\u001b[0m                            Traceback (most recent call last)",
      "\u001b[0;32m/var/folders/nn/c52y0d3j0gq59dpsswchkt2r0000gn/T/ipykernel_17375/2775405839.py\u001b[0m in \u001b[0;36m<module>\u001b[0;34m\u001b[0m\n\u001b[0;32m----> 1\u001b[0;31m \u001b[0mb1\u001b[0m\u001b[0;34m.\u001b[0m\u001b[0m__balance\u001b[0m\u001b[0;34m\u001b[0m\u001b[0;34m\u001b[0m\u001b[0m\n\u001b[0m",
      "\u001b[0;31mAttributeError\u001b[0m: 'BankAccount' object has no attribute '__balance'"
     ]
    }
   ],
   "source": [
    "b1.__balance"
   ]
  },
  {
   "cell_type": "code",
   "execution_count": 28,
   "id": "32b6a664",
   "metadata": {},
   "outputs": [],
   "source": [
    "b1.deposit(10000)"
   ]
  },
  {
   "cell_type": "code",
   "execution_count": 29,
   "id": "594a828a",
   "metadata": {},
   "outputs": [],
   "source": [
    "b1.withdraw(5000)"
   ]
  },
  {
   "cell_type": "code",
   "execution_count": 30,
   "id": "3f084e0d",
   "metadata": {},
   "outputs": [
    {
     "data": {
      "text/plain": [
       "15000"
      ]
     },
     "execution_count": 30,
     "metadata": {},
     "output_type": "execute_result"
    }
   ],
   "source": [
    "b1.check_balance()"
   ]
  },
  {
   "cell_type": "code",
   "execution_count": null,
   "id": "dafa86b6",
   "metadata": {},
   "outputs": [],
   "source": [
    "b1.__balance"
   ]
  },
  {
   "cell_type": "code",
   "execution_count": 37,
   "id": "ff47ac98",
   "metadata": {},
   "outputs": [],
   "source": [
    "b1._BankAccount__balance = 159854568765456789876545678765678\n",
    "# Name Mangling"
   ]
  },
  {
   "cell_type": "code",
   "execution_count": 33,
   "id": "419f7b3a",
   "metadata": {},
   "outputs": [
    {
     "data": {
      "text/plain": [
       "159854568765456789876545678765678"
      ]
     },
     "execution_count": 33,
     "metadata": {},
     "output_type": "execute_result"
    }
   ],
   "source": [
    "b1.check_balance()"
   ]
  },
  {
   "cell_type": "code",
   "execution_count": 34,
   "id": "3a04c719",
   "metadata": {},
   "outputs": [
    {
     "data": {
      "text/plain": [
       "['_BankAccount__balance',\n",
       " '__class__',\n",
       " '__delattr__',\n",
       " '__dict__',\n",
       " '__dir__',\n",
       " '__doc__',\n",
       " '__eq__',\n",
       " '__format__',\n",
       " '__ge__',\n",
       " '__getattribute__',\n",
       " '__gt__',\n",
       " '__hash__',\n",
       " '__init__',\n",
       " '__init_subclass__',\n",
       " '__le__',\n",
       " '__lt__',\n",
       " '__module__',\n",
       " '__ne__',\n",
       " '__new__',\n",
       " '__reduce__',\n",
       " '__reduce_ex__',\n",
       " '__repr__',\n",
       " '__setattr__',\n",
       " '__sizeof__',\n",
       " '__str__',\n",
       " '__subclasshook__',\n",
       " '__weakref__',\n",
       " 'check_balance',\n",
       " 'deposit',\n",
       " 'withdraw']"
      ]
     },
     "execution_count": 34,
     "metadata": {},
     "output_type": "execute_result"
    }
   ],
   "source": [
    "dir(b1)"
   ]
  },
  {
   "cell_type": "code",
   "execution_count": 35,
   "id": "922badd3",
   "metadata": {},
   "outputs": [],
   "source": [
    "b1.__balance = \"random balance\""
   ]
  },
  {
   "cell_type": "code",
   "execution_count": 36,
   "id": "03fdddf9",
   "metadata": {},
   "outputs": [
    {
     "data": {
      "text/plain": [
       "['_BankAccount__balance',\n",
       " '__balance',\n",
       " '__class__',\n",
       " '__delattr__',\n",
       " '__dict__',\n",
       " '__dir__',\n",
       " '__doc__',\n",
       " '__eq__',\n",
       " '__format__',\n",
       " '__ge__',\n",
       " '__getattribute__',\n",
       " '__gt__',\n",
       " '__hash__',\n",
       " '__init__',\n",
       " '__init_subclass__',\n",
       " '__le__',\n",
       " '__lt__',\n",
       " '__module__',\n",
       " '__ne__',\n",
       " '__new__',\n",
       " '__reduce__',\n",
       " '__reduce_ex__',\n",
       " '__repr__',\n",
       " '__setattr__',\n",
       " '__sizeof__',\n",
       " '__str__',\n",
       " '__subclasshook__',\n",
       " '__weakref__',\n",
       " 'check_balance',\n",
       " 'deposit',\n",
       " 'withdraw']"
      ]
     },
     "execution_count": 36,
     "metadata": {},
     "output_type": "execute_result"
    }
   ],
   "source": [
    "dir(b1)"
   ]
  },
  {
   "cell_type": "code",
   "execution_count": 39,
   "id": "0f23e3a4",
   "metadata": {},
   "outputs": [
    {
     "name": "stdout",
     "output_type": "stream",
     "text": [
      "Roll: 34 Marks: A None Age: 17\n"
     ]
    }
   ],
   "source": [
    "class Student:\n",
    "    def __init__(self,roll,marks):\n",
    "        self.roll = roll\n",
    "        self.marks= marks\n",
    "\n",
    "    def display(self):\n",
    "        print('Roll:', self.roll,'Marks:',self.marks, end=\" \")\n",
    "\n",
    "student1= Student(34,'A')\n",
    "student1.age=17\n",
    "print(student1.display(), 'Age:',student1.age)"
   ]
  },
  {
   "cell_type": "code",
   "execution_count": null,
   "id": "bcb80589",
   "metadata": {},
   "outputs": [],
   "source": []
  }
 ],
 "metadata": {
  "kernelspec": {
   "display_name": "Python 3 (ipykernel)",
   "language": "python",
   "name": "python3"
  },
  "language_info": {
   "codemirror_mode": {
    "name": "ipython",
    "version": 3
   },
   "file_extension": ".py",
   "mimetype": "text/x-python",
   "name": "python",
   "nbconvert_exporter": "python",
   "pygments_lexer": "ipython3",
   "version": "3.9.5"
  }
 },
 "nbformat": 4,
 "nbformat_minor": 5
}
