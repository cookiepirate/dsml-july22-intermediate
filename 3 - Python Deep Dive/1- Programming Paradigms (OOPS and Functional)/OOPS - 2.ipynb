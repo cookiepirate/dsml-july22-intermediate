{
 "cells": [
  {
   "cell_type": "code",
   "execution_count": 1,
   "id": "28fc67fa",
   "metadata": {},
   "outputs": [],
   "source": [
    "class A:\n",
    "    def __init__(self, a, b):\n",
    "        self.a = a\n",
    "        self.b = b"
   ]
  },
  {
   "cell_type": "code",
   "execution_count": 3,
   "id": "3772aedf",
   "metadata": {},
   "outputs": [],
   "source": [
    "# Dunders - Magic Methods"
   ]
  },
  {
   "cell_type": "code",
   "execution_count": 9,
   "id": "3331b803",
   "metadata": {},
   "outputs": [],
   "source": [
    "class Car:\n",
    "    def __init__(self, name, milaege):\n",
    "        self.name = name\n",
    "        self.milaege = milaege"
   ]
  },
  {
   "cell_type": "code",
   "execution_count": 10,
   "id": "3ee8e2d9",
   "metadata": {},
   "outputs": [],
   "source": [
    "c1 = Car(\"Nexon\", 12)\n",
    "c2 = Car(\"Altroz\", 15)"
   ]
  },
  {
   "cell_type": "code",
   "execution_count": 11,
   "id": "e08a8ac7",
   "metadata": {},
   "outputs": [
    {
     "name": "stdout",
     "output_type": "stream",
     "text": [
      "<__main__.Car object at 0x7fc3108d5610>\n"
     ]
    }
   ],
   "source": [
    "print(c1)\n",
    "# Name -> Milaege"
   ]
  },
  {
   "cell_type": "code",
   "execution_count": 12,
   "id": "7dead37b",
   "metadata": {},
   "outputs": [
    {
     "name": "stdout",
     "output_type": "stream",
     "text": [
      "<function random at 0x7fc31045b5e0>\n"
     ]
    }
   ],
   "source": [
    "def random():\n",
    "    return \"random\"\n",
    "\n",
    "print(random)"
   ]
  },
  {
   "cell_type": "code",
   "execution_count": 13,
   "id": "d8c7f71f",
   "metadata": {},
   "outputs": [],
   "source": [
    "# Printing is a behaviour in python\n",
    "# We are going to tweak that behaviour (customize) for objects of our custom class"
   ]
  },
  {
   "cell_type": "code",
   "execution_count": 47,
   "id": "16d802fa",
   "metadata": {},
   "outputs": [],
   "source": [
    "class Car:\n",
    "    def __init__(self, name, milaege):\n",
    "        self.name = name\n",
    "        self.milaege = milaege\n",
    "    \n",
    "    # whenever an object is printed\n",
    "    def __str__(self):\n",
    "        return f\"{self.name} -> {self.milaege}\"\n",
    "    \n",
    "    def __add__(self, other):\n",
    "        return self.milaege + other.milaege\n",
    "    \n",
    "    def __lt__(self, other):\n",
    "        return self.milaege < other.milaege\n",
    "    \n",
    "    def __call__(self):\n",
    "        print(\"I WAS CALLED\")"
   ]
  },
  {
   "cell_type": "code",
   "execution_count": 48,
   "id": "3fc3f036",
   "metadata": {},
   "outputs": [],
   "source": [
    "c1 = Car(\"Nexon\", 12)\n",
    "c2 = Car(\"Altroz\", 15)"
   ]
  },
  {
   "cell_type": "code",
   "execution_count": 49,
   "id": "97cc729f",
   "metadata": {},
   "outputs": [
    {
     "name": "stdout",
     "output_type": "stream",
     "text": [
      "Nexon -> 12\n"
     ]
    }
   ],
   "source": [
    "print(c1)"
   ]
  },
  {
   "cell_type": "code",
   "execution_count": 50,
   "id": "65fb3e7b",
   "metadata": {},
   "outputs": [
    {
     "data": {
      "text/plain": [
       "27"
      ]
     },
     "execution_count": 50,
     "metadata": {},
     "output_type": "execute_result"
    }
   ],
   "source": [
    "c1 + c2\n",
    "# Car.__add__(c1, c2)"
   ]
  },
  {
   "cell_type": "code",
   "execution_count": 51,
   "id": "06ee9b8c",
   "metadata": {},
   "outputs": [],
   "source": [
    "# HOMEWORK - \n",
    "# Use this add method to add 3 cars"
   ]
  },
  {
   "cell_type": "code",
   "execution_count": 52,
   "id": "764d48ab",
   "metadata": {},
   "outputs": [],
   "source": [
    "# c1 + c2 + Car(\"BMW\", 10)"
   ]
  },
  {
   "cell_type": "code",
   "execution_count": 53,
   "id": "dd14432c",
   "metadata": {},
   "outputs": [
    {
     "data": {
      "text/plain": [
       "True"
      ]
     },
     "execution_count": 53,
     "metadata": {},
     "output_type": "execute_result"
    }
   ],
   "source": [
    "c1 < c2"
   ]
  },
  {
   "cell_type": "code",
   "execution_count": 54,
   "id": "6c1746d2",
   "metadata": {},
   "outputs": [
    {
     "name": "stdout",
     "output_type": "stream",
     "text": [
      "I WAS CALLED\n"
     ]
    }
   ],
   "source": [
    "c1()"
   ]
  },
  {
   "cell_type": "code",
   "execution_count": 55,
   "id": "11695066",
   "metadata": {},
   "outputs": [
    {
     "name": "stdout",
     "output_type": "stream",
     "text": [
      "I WAS CALLED\n"
     ]
    }
   ],
   "source": [
    "c2()"
   ]
  },
  {
   "cell_type": "code",
   "execution_count": 56,
   "id": "b89a2b56",
   "metadata": {},
   "outputs": [],
   "source": [
    "# Start class names with capital lettes or we use camel case\n",
    "class SchoolMember:\n",
    "    def __init__(self, name):\n",
    "        self.name = name\n",
    "        \n",
    "class Student(SchoolMember):\n",
    "    def __init__(self, name, grade):\n",
    "        self.grade = grade\n",
    "        \n",
    "class Staff(SchoolMember):\n",
    "    def __init__(self, name, salary):\n",
    "        self.salary = salary\n",
    "        \n",
    "class Teacher(Staff):\n",
    "    def __init__(self, name, salary, subject):\n",
    "        self.subject = subject"
   ]
  },
  {
   "cell_type": "code",
   "execution_count": 57,
   "id": "6bc056ff",
   "metadata": {},
   "outputs": [],
   "source": [
    "s1 = Student(\"Krishna\", \"A\")"
   ]
  },
  {
   "cell_type": "code",
   "execution_count": 58,
   "id": "937b9bac",
   "metadata": {},
   "outputs": [
    {
     "data": {
      "text/plain": [
       "__main__.Student"
      ]
     },
     "execution_count": 58,
     "metadata": {},
     "output_type": "execute_result"
    }
   ],
   "source": [
    "type(s1)"
   ]
  },
  {
   "cell_type": "code",
   "execution_count": 59,
   "id": "c94004d0",
   "metadata": {},
   "outputs": [
    {
     "data": {
      "text/plain": [
       "'A'"
      ]
     },
     "execution_count": 59,
     "metadata": {},
     "output_type": "execute_result"
    }
   ],
   "source": [
    "s1.grade"
   ]
  },
  {
   "cell_type": "code",
   "execution_count": 60,
   "id": "7000bb3c",
   "metadata": {},
   "outputs": [
    {
     "ename": "AttributeError",
     "evalue": "'Student' object has no attribute 'name'",
     "output_type": "error",
     "traceback": [
      "\u001b[0;31m---------------------------------------------------------------------------\u001b[0m",
      "\u001b[0;31mAttributeError\u001b[0m                            Traceback (most recent call last)",
      "\u001b[0;32m/var/folders/nn/c52y0d3j0gq59dpsswchkt2r0000gn/T/ipykernel_16651/2835019485.py\u001b[0m in \u001b[0;36m<module>\u001b[0;34m\u001b[0m\n\u001b[0;32m----> 1\u001b[0;31m \u001b[0ms1\u001b[0m\u001b[0;34m.\u001b[0m\u001b[0mname\u001b[0m\u001b[0;34m\u001b[0m\u001b[0;34m\u001b[0m\u001b[0m\n\u001b[0m",
      "\u001b[0;31mAttributeError\u001b[0m: 'Student' object has no attribute 'name'"
     ]
    }
   ],
   "source": [
    "s1.name"
   ]
  },
  {
   "cell_type": "code",
   "execution_count": 61,
   "id": "1083bba5",
   "metadata": {},
   "outputs": [],
   "source": [
    "class A:\n",
    "    def __init__(self, a, b):\n",
    "        self.a = a\n",
    "        self.b = b"
   ]
  },
  {
   "cell_type": "code",
   "execution_count": 62,
   "id": "5cff031f",
   "metadata": {},
   "outputs": [
    {
     "ename": "TypeError",
     "evalue": "__init__() missing 2 required positional arguments: 'a' and 'b'",
     "output_type": "error",
     "traceback": [
      "\u001b[0;31m---------------------------------------------------------------------------\u001b[0m",
      "\u001b[0;31mTypeError\u001b[0m                                 Traceback (most recent call last)",
      "\u001b[0;32m/var/folders/nn/c52y0d3j0gq59dpsswchkt2r0000gn/T/ipykernel_16651/1934065993.py\u001b[0m in \u001b[0;36m<module>\u001b[0;34m\u001b[0m\n\u001b[0;32m----> 1\u001b[0;31m \u001b[0ma\u001b[0m \u001b[0;34m=\u001b[0m \u001b[0mA\u001b[0m\u001b[0;34m(\u001b[0m\u001b[0;34m)\u001b[0m\u001b[0;34m\u001b[0m\u001b[0;34m\u001b[0m\u001b[0m\n\u001b[0m",
      "\u001b[0;31mTypeError\u001b[0m: __init__() missing 2 required positional arguments: 'a' and 'b'"
     ]
    }
   ],
   "source": [
    "a = A()"
   ]
  },
  {
   "cell_type": "code",
   "execution_count": 71,
   "id": "13c57c45",
   "metadata": {},
   "outputs": [],
   "source": [
    "# Start class names with capital lettes or we use camel case\n",
    "class SchoolMember:\n",
    "    def __init__(self, name):\n",
    "        self.name = name\n",
    "        \n",
    "class Student(SchoolMember):\n",
    "    def __init__(self, name, grade):\n",
    "        # SchoolMember.__init__(self, name)\n",
    "        super().__init__(name)\n",
    "        # super automatically corresponds to the direct parent class\n",
    "        self.grade = grade\n",
    "        \n",
    "class Staff(SchoolMember):\n",
    "    def __init__(self, name, salary):\n",
    "        super().__init__(name)\n",
    "        self.salary = salary\n",
    "        \n",
    "class Teacher(Staff):\n",
    "    def __init__(self, name, salary, subject):\n",
    "        super().__init__(name, salary)\n",
    "        self.subject = subject"
   ]
  },
  {
   "cell_type": "code",
   "execution_count": 72,
   "id": "ac540794",
   "metadata": {},
   "outputs": [],
   "source": [
    "s1 = Student(\"Sharath\", \"A\")"
   ]
  },
  {
   "cell_type": "code",
   "execution_count": 73,
   "id": "4d4bb2af",
   "metadata": {},
   "outputs": [
    {
     "data": {
      "text/plain": [
       "'A'"
      ]
     },
     "execution_count": 73,
     "metadata": {},
     "output_type": "execute_result"
    }
   ],
   "source": [
    "s1.grade"
   ]
  },
  {
   "cell_type": "code",
   "execution_count": 74,
   "id": "ad63db11",
   "metadata": {},
   "outputs": [],
   "source": [
    "s1.name = \"Random\""
   ]
  },
  {
   "cell_type": "code",
   "execution_count": 70,
   "id": "25439b3d",
   "metadata": {},
   "outputs": [
    {
     "data": {
      "text/plain": [
       "'Random'"
      ]
     },
     "execution_count": 70,
     "metadata": {},
     "output_type": "execute_result"
    }
   ],
   "source": [
    "s1.name"
   ]
  },
  {
   "cell_type": "code",
   "execution_count": 75,
   "id": "c852a9b7",
   "metadata": {},
   "outputs": [],
   "source": [
    "t1 = Teacher(\"Bipin\", 10, \"Python\")"
   ]
  },
  {
   "cell_type": "code",
   "execution_count": 76,
   "id": "343a6f0a",
   "metadata": {},
   "outputs": [
    {
     "data": {
      "text/plain": [
       "'Bipin'"
      ]
     },
     "execution_count": 76,
     "metadata": {},
     "output_type": "execute_result"
    }
   ],
   "source": [
    "t1.name"
   ]
  },
  {
   "cell_type": "code",
   "execution_count": 77,
   "id": "86ea9e6a",
   "metadata": {},
   "outputs": [
    {
     "data": {
      "text/plain": [
       "10"
      ]
     },
     "execution_count": 77,
     "metadata": {},
     "output_type": "execute_result"
    }
   ],
   "source": [
    "t1.salary"
   ]
  },
  {
   "cell_type": "code",
   "execution_count": 78,
   "id": "93bd7fb6",
   "metadata": {},
   "outputs": [
    {
     "data": {
      "text/plain": [
       "'Python'"
      ]
     },
     "execution_count": 78,
     "metadata": {},
     "output_type": "execute_result"
    }
   ],
   "source": [
    "t1.subject"
   ]
  },
  {
   "cell_type": "code",
   "execution_count": null,
   "id": "8ad16dd7",
   "metadata": {},
   "outputs": [],
   "source": []
  }
 ],
 "metadata": {
  "kernelspec": {
   "display_name": "Python 3 (ipykernel)",
   "language": "python",
   "name": "python3"
  },
  "language_info": {
   "codemirror_mode": {
    "name": "ipython",
    "version": 3
   },
   "file_extension": ".py",
   "mimetype": "text/x-python",
   "name": "python",
   "nbconvert_exporter": "python",
   "pygments_lexer": "ipython3",
   "version": "3.9.5"
  }
 },
 "nbformat": 4,
 "nbformat_minor": 5
}
